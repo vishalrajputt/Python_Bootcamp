{
 "cells": [
  {
   "cell_type": "markdown",
   "id": "c573de60",
   "metadata": {},
   "source": [
    "# Space counts"
   ]
  },
  {
   "cell_type": "code",
   "execution_count": 1,
   "id": "95471963",
   "metadata": {},
   "outputs": [],
   "source": [
    "mystring = \"hello World\""
   ]
  },
  {
   "cell_type": "code",
   "execution_count": 2,
   "id": "ee96eae7",
   "metadata": {},
   "outputs": [
    {
     "data": {
      "text/plain": [
       "'hello World'"
      ]
     },
     "execution_count": 2,
     "metadata": {},
     "output_type": "execute_result"
    }
   ],
   "source": [
    "mystring"
   ]
  },
  {
   "cell_type": "code",
   "execution_count": 3,
   "id": "f6474563",
   "metadata": {},
   "outputs": [
    {
     "data": {
      "text/plain": [
       "'h'"
      ]
     },
     "execution_count": 3,
     "metadata": {},
     "output_type": "execute_result"
    }
   ],
   "source": [
    "mystring[0]"
   ]
  },
  {
   "cell_type": "code",
   "execution_count": 4,
   "id": "d01af2c9",
   "metadata": {},
   "outputs": [
    {
     "data": {
      "text/plain": [
       "'r'"
      ]
     },
     "execution_count": 4,
     "metadata": {},
     "output_type": "execute_result"
    }
   ],
   "source": [
    "mystring[8]"
   ]
  },
  {
   "cell_type": "code",
   "execution_count": 5,
   "id": "348b4168",
   "metadata": {},
   "outputs": [
    {
     "data": {
      "text/plain": [
       "'l'"
      ]
     },
     "execution_count": 5,
     "metadata": {},
     "output_type": "execute_result"
    }
   ],
   "source": [
    "mystring[-2]"
   ]
  },
  {
   "cell_type": "code",
   "execution_count": 6,
   "id": "0f131bbe",
   "metadata": {},
   "outputs": [
    {
     "data": {
      "text/plain": [
       "'d'"
      ]
     },
     "execution_count": 6,
     "metadata": {},
     "output_type": "execute_result"
    }
   ],
   "source": [
    "mystring[-1]"
   ]
  },
  {
   "cell_type": "code",
   "execution_count": 7,
   "id": "377ee1c4",
   "metadata": {},
   "outputs": [
    {
     "data": {
      "text/plain": [
       "11"
      ]
     },
     "execution_count": 7,
     "metadata": {},
     "output_type": "execute_result"
    }
   ],
   "source": [
    "len(mystring)"
   ]
  },
  {
   "cell_type": "markdown",
   "id": "3494a6d4",
   "metadata": {},
   "source": [
    "# slicing"
   ]
  },
  {
   "cell_type": "code",
   "execution_count": 8,
   "id": "e7c0661c",
   "metadata": {},
   "outputs": [],
   "source": [
    "mystring = \"abcdefghijk\""
   ]
  },
  {
   "cell_type": "code",
   "execution_count": 9,
   "id": "df1cb8be",
   "metadata": {},
   "outputs": [
    {
     "data": {
      "text/plain": [
       "'abcdefghijk'"
      ]
     },
     "execution_count": 9,
     "metadata": {},
     "output_type": "execute_result"
    }
   ],
   "source": [
    "mystring"
   ]
  },
  {
   "cell_type": "code",
   "execution_count": 10,
   "id": "b10c6e6e",
   "metadata": {},
   "outputs": [
    {
     "data": {
      "text/plain": [
       "'cdefghijk'"
      ]
     },
     "execution_count": 10,
     "metadata": {},
     "output_type": "execute_result"
    }
   ],
   "source": [
    "mystring[2:]"
   ]
  },
  {
   "cell_type": "code",
   "execution_count": 11,
   "id": "3ca43a4f",
   "metadata": {},
   "outputs": [
    {
     "data": {
      "text/plain": [
       "'abc'"
      ]
     },
     "execution_count": 11,
     "metadata": {},
     "output_type": "execute_result"
    }
   ],
   "source": [
    "mystring[:3]"
   ]
  },
  {
   "cell_type": "code",
   "execution_count": 12,
   "id": "7156674e",
   "metadata": {},
   "outputs": [
    {
     "data": {
      "text/plain": [
       "'abcde'"
      ]
     },
     "execution_count": 12,
     "metadata": {},
     "output_type": "execute_result"
    }
   ],
   "source": [
    "mystring[0:5]"
   ]
  },
  {
   "cell_type": "code",
   "execution_count": 13,
   "id": "26badea7",
   "metadata": {},
   "outputs": [
    {
     "data": {
      "text/plain": [
       "'def'"
      ]
     },
     "execution_count": 13,
     "metadata": {},
     "output_type": "execute_result"
    }
   ],
   "source": [
    "mystring[3:6]"
   ]
  },
  {
   "cell_type": "code",
   "execution_count": 14,
   "id": "33f345c7",
   "metadata": {},
   "outputs": [
    {
     "data": {
      "text/plain": [
       "'bc'"
      ]
     },
     "execution_count": 14,
     "metadata": {},
     "output_type": "execute_result"
    }
   ],
   "source": [
    "mystring[1:3]"
   ]
  },
  {
   "cell_type": "code",
   "execution_count": 15,
   "id": "5975cf1c",
   "metadata": {},
   "outputs": [
    {
     "data": {
      "text/plain": [
       "'ghi'"
      ]
     },
     "execution_count": 15,
     "metadata": {},
     "output_type": "execute_result"
    }
   ],
   "source": [
    "mystring[6:9]"
   ]
  },
  {
   "cell_type": "code",
   "execution_count": 16,
   "id": "98b907cb",
   "metadata": {},
   "outputs": [
    {
     "data": {
      "text/plain": [
       "'abcdefghijk'"
      ]
     },
     "execution_count": 16,
     "metadata": {},
     "output_type": "execute_result"
    }
   ],
   "source": [
    "mystring[::]"
   ]
  },
  {
   "cell_type": "code",
   "execution_count": 17,
   "id": "273cc505",
   "metadata": {},
   "outputs": [
    {
     "data": {
      "text/plain": [
       "'acegik'"
      ]
     },
     "execution_count": 17,
     "metadata": {},
     "output_type": "execute_result"
    }
   ],
   "source": [
    "mystring[::2]"
   ]
  },
  {
   "cell_type": "code",
   "execution_count": 18,
   "id": "94d20a94",
   "metadata": {},
   "outputs": [
    {
     "data": {
      "text/plain": [
       "'ace'"
      ]
     },
     "execution_count": 18,
     "metadata": {},
     "output_type": "execute_result"
    }
   ],
   "source": [
    "mystring[0:6:2]"
   ]
  },
  {
   "cell_type": "markdown",
   "id": "4bc88ccd",
   "metadata": {},
   "source": [
    "# Reverse String"
   ]
  },
  {
   "cell_type": "code",
   "execution_count": 19,
   "id": "182cb43b",
   "metadata": {},
   "outputs": [
    {
     "data": {
      "text/plain": [
       "'kjihgfedcba'"
      ]
     },
     "execution_count": 19,
     "metadata": {},
     "output_type": "execute_result"
    }
   ],
   "source": [
    "mystring[::-1]"
   ]
  },
  {
   "cell_type": "markdown",
   "id": "04e3ce91",
   "metadata": {},
   "source": [
    "# string Properties and Methods"
   ]
  },
  {
   "cell_type": "code",
   "execution_count": 20,
   "id": "aa6b9880",
   "metadata": {},
   "outputs": [],
   "source": [
    "firstname = \"vishal\""
   ]
  },
  {
   "cell_type": "code",
   "execution_count": 21,
   "id": "fe01d4a4",
   "metadata": {},
   "outputs": [
    {
     "data": {
      "text/plain": [
       "'vishal'"
      ]
     },
     "execution_count": 21,
     "metadata": {},
     "output_type": "execute_result"
    }
   ],
   "source": [
    "firstname"
   ]
  },
  {
   "cell_type": "code",
   "execution_count": 22,
   "id": "276ed44f",
   "metadata": {},
   "outputs": [],
   "source": [
    "lastname = firstname[4]"
   ]
  },
  {
   "cell_type": "code",
   "execution_count": 23,
   "id": "9fbd9dc6",
   "metadata": {},
   "outputs": [
    {
     "data": {
      "text/plain": [
       "'a'"
      ]
     },
     "execution_count": 23,
     "metadata": {},
     "output_type": "execute_result"
    }
   ],
   "source": [
    "lastname"
   ]
  },
  {
   "cell_type": "code",
   "execution_count": 24,
   "id": "1b843c8a",
   "metadata": {},
   "outputs": [
    {
     "data": {
      "text/plain": [
       "'Rajput'"
      ]
     },
     "execution_count": 24,
     "metadata": {},
     "output_type": "execute_result"
    }
   ],
   "source": [
    "'R' + lastname + 'jput'    #concated so basically the \"a\" is concated with r and jput"
   ]
  },
  {
   "cell_type": "code",
   "execution_count": 25,
   "id": "a92a9128",
   "metadata": {},
   "outputs": [],
   "source": [
    "fullname = firstname +\" \" + 'R' + lastname + 'jput'"
   ]
  },
  {
   "cell_type": "code",
   "execution_count": 26,
   "id": "c8a5fed8",
   "metadata": {},
   "outputs": [
    {
     "data": {
      "text/plain": [
       "'vishal Rajput'"
      ]
     },
     "execution_count": 26,
     "metadata": {},
     "output_type": "execute_result"
    }
   ],
   "source": [
    "fullname"
   ]
  },
  {
   "cell_type": "markdown",
   "id": "9dbc8fd2",
   "metadata": {},
   "source": [
    "# methods"
   ]
  },
  {
   "cell_type": "code",
   "execution_count": 27,
   "id": "8f69fdb8",
   "metadata": {},
   "outputs": [],
   "source": [
    "x = \"hello world\""
   ]
  },
  {
   "cell_type": "code",
   "execution_count": 28,
   "id": "20c5471d",
   "metadata": {},
   "outputs": [
    {
     "data": {
      "text/plain": [
       "'Hello world'"
      ]
     },
     "execution_count": 28,
     "metadata": {},
     "output_type": "execute_result"
    }
   ],
   "source": [
    "x.capitalize()"
   ]
  },
  {
   "cell_type": "code",
   "execution_count": 29,
   "id": "544a8a66",
   "metadata": {},
   "outputs": [
    {
     "data": {
      "text/plain": [
       "'hello world'"
      ]
     },
     "execution_count": 29,
     "metadata": {},
     "output_type": "execute_result"
    }
   ],
   "source": [
    "x.casefold()"
   ]
  },
  {
   "cell_type": "code",
   "execution_count": 40,
   "id": "0d8c4fb5",
   "metadata": {},
   "outputs": [
    {
     "data": {
      "text/plain": [
       "'HELLO WORLD'"
      ]
     },
     "execution_count": 40,
     "metadata": {},
     "output_type": "execute_result"
    }
   ],
   "source": [
    "x.upper()"
   ]
  },
  {
   "cell_type": "code",
   "execution_count": 44,
   "id": "d6897be5",
   "metadata": {},
   "outputs": [
    {
     "data": {
      "text/plain": [
       "'hello world'"
      ]
     },
     "execution_count": 44,
     "metadata": {},
     "output_type": "execute_result"
    }
   ],
   "source": [
    "x.lower()"
   ]
  },
  {
   "cell_type": "code",
   "execution_count": 45,
   "id": "60841896",
   "metadata": {},
   "outputs": [
    {
     "data": {
      "text/plain": [
       "['hello', 'world']"
      ]
     },
     "execution_count": 45,
     "metadata": {},
     "output_type": "execute_result"
    }
   ],
   "source": [
    "x.split()    # it create a list it splits using the white space by default"
   ]
  },
  {
   "cell_type": "code",
   "execution_count": 46,
   "id": "8a531658",
   "metadata": {},
   "outputs": [],
   "source": [
    "x = \"hi my name is vishal\""
   ]
  },
  {
   "cell_type": "code",
   "execution_count": 47,
   "id": "79ed2709",
   "metadata": {},
   "outputs": [
    {
     "data": {
      "text/plain": [
       "['hi', 'my', 'name', 'is', 'vishal']"
      ]
     },
     "execution_count": 47,
     "metadata": {},
     "output_type": "execute_result"
    }
   ],
   "source": [
    "x.split()"
   ]
  },
  {
   "cell_type": "code",
   "execution_count": 50,
   "id": "7c8ce4d5",
   "metadata": {},
   "outputs": [
    {
     "data": {
      "text/plain": [
       "['hi my n', 'me is vish', 'l']"
      ]
     },
     "execution_count": 50,
     "metadata": {},
     "output_type": "execute_result"
    }
   ],
   "source": [
    "x.split('a')  # also if you guve it a value it can split by using the help of value"
   ]
  },
  {
   "cell_type": "code",
   "execution_count": 57,
   "id": "f61dca1a",
   "metadata": {},
   "outputs": [],
   "source": [
    "v = '''vsihal*dhiwdh*djhwidh*dhuwdwduh*Dwudgwgdw'''"
   ]
  },
  {
   "cell_type": "code",
   "execution_count": 58,
   "id": "75d20d77",
   "metadata": {},
   "outputs": [
    {
     "data": {
      "text/plain": [
       "'vsihal*dhiwdh*djhwidh*dhuwdwduh*Dwudgwgdw'"
      ]
     },
     "execution_count": 58,
     "metadata": {},
     "output_type": "execute_result"
    }
   ],
   "source": [
    "v"
   ]
  },
  {
   "cell_type": "code",
   "execution_count": 59,
   "id": "5e2c53d9",
   "metadata": {},
   "outputs": [
    {
     "data": {
      "text/plain": [
       "['vsihal', 'dhiwdh', 'djhwidh', 'dhuwdwduh', 'Dwudgwgdw']"
      ]
     },
     "execution_count": 59,
     "metadata": {},
     "output_type": "execute_result"
    }
   ],
   "source": [
    "v.split('*')"
   ]
  },
  {
   "cell_type": "markdown",
   "id": "aa3958d6",
   "metadata": {},
   "source": [
    "# print formatting with string"
   ]
  },
  {
   "cell_type": "markdown",
   "id": "93d79070",
   "metadata": {},
   "source": [
    "# we can use .format() to insert objects in our strings for print statement E.g. = \"string here {} then also{}\".format('somthing1','somthing2'))"
   ]
  },
  {
   "cell_type": "code",
   "execution_count": 2,
   "id": "8797b662",
   "metadata": {},
   "outputs": [
    {
     "name": "stdout",
     "output_type": "stream",
     "text": [
      "vishal is Rajput\n"
     ]
    }
   ],
   "source": [
    "print('vishal is {}'.format('Rajput'))"
   ]
  },
  {
   "cell_type": "code",
   "execution_count": 5,
   "id": "8a876598",
   "metadata": {},
   "outputs": [
    {
     "name": "stdout",
     "output_type": "stream",
     "text": [
      "vishal is programmer best in the world\n"
     ]
    }
   ],
   "source": [
    "print('vishal is {} {} {}'.format('programmer','best','in the world'))"
   ]
  },
  {
   "cell_type": "code",
   "execution_count": null,
   "id": "44693c2e",
   "metadata": {},
   "outputs": [],
   "source": [
    "#basically we can put the format string values by indexing also in {} here also repeat them if we want to"
   ]
  },
  {
   "cell_type": "code",
   "execution_count": 6,
   "id": "24d0735c",
   "metadata": {},
   "outputs": [
    {
     "name": "stdout",
     "output_type": "stream",
     "text": [
      "vishal is best programmer in the world\n"
     ]
    }
   ],
   "source": [
    "print('vishal is {1} {0} {2}'.format('programmer','best','in the world'))"
   ]
  },
  {
   "cell_type": "code",
   "execution_count": 7,
   "id": "caa36bd4",
   "metadata": {},
   "outputs": [
    {
     "name": "stdout",
     "output_type": "stream",
     "text": [
      "vishal is best best best\n"
     ]
    }
   ],
   "source": [
    "print('vishal is {1} {1} {1}'.format('programmer','best','in the world'))"
   ]
  },
  {
   "cell_type": "code",
   "execution_count": null,
   "id": "b74c4148",
   "metadata": {},
   "outputs": [],
   "source": [
    "# also we can assign the formated values by using the keywords"
   ]
  },
  {
   "cell_type": "code",
   "execution_count": 9,
   "id": "b3597f15",
   "metadata": {},
   "outputs": [
    {
     "name": "stdout",
     "output_type": "stream",
     "text": [
      "vishal is best programmer in the world\n"
     ]
    }
   ],
   "source": [
    "print('vishal is {b} {p} {w}'.format(p ='programmer',b ='best',w ='in the world'))"
   ]
  },
  {
   "cell_type": "markdown",
   "id": "d23450b0",
   "metadata": {},
   "source": [
    "# float formatting follows \"{value:width.precision f}\""
   ]
  },
  {
   "cell_type": "code",
   "execution_count": null,
   "id": "7fbb2ddb",
   "metadata": {},
   "outputs": [],
   "source": [
    "# basically we can use it for round up or doun the numbers of float etc..."
   ]
  },
  {
   "cell_type": "code",
   "execution_count": 10,
   "id": "6d0303d5",
   "metadata": {},
   "outputs": [],
   "source": [
    "result = 150/56"
   ]
  },
  {
   "cell_type": "code",
   "execution_count": 17,
   "id": "d24ba65b",
   "metadata": {},
   "outputs": [
    {
     "data": {
      "text/plain": [
       "2.6785714285714284"
      ]
     },
     "execution_count": 17,
     "metadata": {},
     "output_type": "execute_result"
    }
   ],
   "source": [
    "result"
   ]
  },
  {
   "cell_type": "code",
   "execution_count": 19,
   "id": "cc616840",
   "metadata": {},
   "outputs": [
    {
     "name": "stdout",
     "output_type": "stream",
     "text": [
      "the result was 2.6785714285714284\n"
     ]
    }
   ],
   "source": [
    "print(\"the result was {r}\".format(r=result))"
   ]
  },
  {
   "cell_type": "code",
   "execution_count": 23,
   "id": "9b4846d2",
   "metadata": {},
   "outputs": [
    {
     "name": "stdout",
     "output_type": "stream",
     "text": [
      "the result is 2.68\n"
     ]
    }
   ],
   "source": [
    "print(\"the result is {r:1.2f}\".format(r=result)) # so in formatting {} the values are r = result , 1 = width , 2 = round up value for decimal places"
   ]
  },
  {
   "cell_type": "markdown",
   "id": "b41d858a",
   "metadata": {},
   "source": [
    "# f strings "
   ]
  },
  {
   "cell_type": "code",
   "execution_count": 24,
   "id": "192fdb23",
   "metadata": {},
   "outputs": [],
   "source": [
    " name  = \"my name is \""
   ]
  },
  {
   "cell_type": "code",
   "execution_count": 28,
   "id": "e35c5aa6",
   "metadata": {},
   "outputs": [
    {
     "name": "stdout",
     "output_type": "stream",
     "text": [
      "my name is Vishal\n"
     ]
    }
   ],
   "source": [
    "print(f'{name}Vishal')"
   ]
  },
  {
   "cell_type": "code",
   "execution_count": 30,
   "id": "3df51245",
   "metadata": {},
   "outputs": [],
   "source": [
    "name = \"vishal\"\n",
    "age = 24\n",
    "gender = \"male\""
   ]
  },
  {
   "cell_type": "code",
   "execution_count": 31,
   "id": "c94c1746",
   "metadata": {},
   "outputs": [
    {
     "name": "stdout",
     "output_type": "stream",
     "text": [
      "my name is vishal,my age is 24, i am male\n"
     ]
    }
   ],
   "source": [
    "print(f'my name is {name},my age is {age}, i am {gender}')"
   ]
  },
  {
   "cell_type": "code",
   "execution_count": null,
   "id": "5ba08784",
   "metadata": {},
   "outputs": [],
   "source": [
    "# we can do some fun things using f string method "
   ]
  },
  {
   "cell_type": "code",
   "execution_count": 32,
   "id": "576346d6",
   "metadata": {},
   "outputs": [
    {
     "name": "stdout",
     "output_type": "stream",
     "text": [
      "what is your namevishal\n",
      "what is your age24\n"
     ]
    }
   ],
   "source": [
    "name = input(\"what is your name\")\n",
    "age = int(input('what is your age'))"
   ]
  },
  {
   "cell_type": "code",
   "execution_count": 33,
   "id": "2467b115",
   "metadata": {},
   "outputs": [
    {
     "name": "stdout",
     "output_type": "stream",
     "text": [
      "Hi master vishal you are now 24 years old\n"
     ]
    }
   ],
   "source": [
    "print(f'Hi master {name} you are now {age} years old')"
   ]
  },
  {
   "cell_type": "markdown",
   "id": "0a59e1b5",
   "metadata": {},
   "source": [
    "# place holder method"
   ]
  },
  {
   "cell_type": "code",
   "execution_count": 34,
   "id": "db9cee50",
   "metadata": {},
   "outputs": [
    {
     "name": "stdout",
     "output_type": "stream",
     "text": [
      "I'm going to inject some text here, and more text here.\n"
     ]
    }
   ],
   "source": [
    "print(\"I'm going to inject %s text here, and %s text here.\" %('some','more'))"
   ]
  },
  {
   "cell_type": "code",
   "execution_count": 36,
   "id": "591c4b67",
   "metadata": {},
   "outputs": [
    {
     "name": "stdout",
     "output_type": "stream",
     "text": [
      "my name is vishal and i am Indian rajput\n"
     ]
    }
   ],
   "source": [
    "print(\"my name is %s and i am %s rajput\"%('vishal','Indian'))"
   ]
  },
  {
   "cell_type": "markdown",
   "id": "4ec49545",
   "metadata": {},
   "source": [
    "# Lists"
   ]
  },
  {
   "cell_type": "code",
   "execution_count": 37,
   "id": "0ca731fb",
   "metadata": {},
   "outputs": [],
   "source": [
    "my_list = ['vishal',56,213.56,'rajput']"
   ]
  },
  {
   "cell_type": "code",
   "execution_count": 38,
   "id": "2bae5ba4",
   "metadata": {},
   "outputs": [
    {
     "data": {
      "text/plain": [
       "['vishal', 56, 213.56, 'rajput']"
      ]
     },
     "execution_count": 38,
     "metadata": {},
     "output_type": "execute_result"
    }
   ],
   "source": [
    "my_list"
   ]
  },
  {
   "cell_type": "code",
   "execution_count": 41,
   "id": "c691ce51",
   "metadata": {},
   "outputs": [
    {
     "data": {
      "text/plain": [
       "4"
      ]
     },
     "execution_count": 41,
     "metadata": {},
     "output_type": "execute_result"
    }
   ],
   "source": [
    "len(my_list)"
   ]
  },
  {
   "cell_type": "code",
   "execution_count": 42,
   "id": "04eeea20",
   "metadata": {},
   "outputs": [
    {
     "data": {
      "text/plain": [
       "'vishal'"
      ]
     },
     "execution_count": 42,
     "metadata": {},
     "output_type": "execute_result"
    }
   ],
   "source": [
    "my_list[0]"
   ]
  },
  {
   "cell_type": "code",
   "execution_count": 43,
   "id": "7b43fb79",
   "metadata": {},
   "outputs": [
    {
     "data": {
      "text/plain": [
       "['vishal', 56]"
      ]
     },
     "execution_count": 43,
     "metadata": {},
     "output_type": "execute_result"
    }
   ],
   "source": [
    "my_list[:2]"
   ]
  },
  {
   "cell_type": "code",
   "execution_count": 44,
   "id": "09d02181",
   "metadata": {},
   "outputs": [],
   "source": [
    "my_list2 = ['vivek','vicky','khushi',89,41,42.35]"
   ]
  },
  {
   "cell_type": "code",
   "execution_count": 45,
   "id": "c7d917f5",
   "metadata": {},
   "outputs": [
    {
     "data": {
      "text/plain": [
       "['vishal', 56, 213.56, 'rajput', 'vivek', 'vicky', 'khushi', 89, 41, 42.35]"
      ]
     },
     "execution_count": 45,
     "metadata": {},
     "output_type": "execute_result"
    }
   ],
   "source": [
    "my_list+my_list2  #concat to join these two lists together"
   ]
  },
  {
   "cell_type": "code",
   "execution_count": 46,
   "id": "cfb9e8d2",
   "metadata": {},
   "outputs": [],
   "source": [
    "my_list_conct = my_list+my_list2"
   ]
  },
  {
   "cell_type": "code",
   "execution_count": 47,
   "id": "ee9aeb55",
   "metadata": {},
   "outputs": [
    {
     "data": {
      "text/plain": [
       "['vishal', 56, 213.56, 'rajput', 'vivek', 'vicky', 'khushi', 89, 41, 42.35]"
      ]
     },
     "execution_count": 47,
     "metadata": {},
     "output_type": "execute_result"
    }
   ],
   "source": [
    "my_list_conct"
   ]
  },
  {
   "cell_type": "code",
   "execution_count": null,
   "id": "409940ec",
   "metadata": {},
   "outputs": [],
   "source": [
    "# to change any value in the list by using indexing method"
   ]
  },
  {
   "cell_type": "code",
   "execution_count": 48,
   "id": "78c128bf",
   "metadata": {},
   "outputs": [],
   "source": [
    "my_list_conct[0] = \"Vishal\""
   ]
  },
  {
   "cell_type": "code",
   "execution_count": 49,
   "id": "50b64a97",
   "metadata": {},
   "outputs": [
    {
     "data": {
      "text/plain": [
       "['Vishal', 56, 213.56, 'rajput', 'vivek', 'vicky', 'khushi', 89, 41, 42.35]"
      ]
     },
     "execution_count": 49,
     "metadata": {},
     "output_type": "execute_result"
    }
   ],
   "source": [
    "my_list_conct"
   ]
  },
  {
   "cell_type": "code",
   "execution_count": 51,
   "id": "44938ade",
   "metadata": {},
   "outputs": [],
   "source": [
    " my_list_conct.append(456) #it adds 456 into the end of the list"
   ]
  },
  {
   "cell_type": "code",
   "execution_count": 52,
   "id": "ec1adf22",
   "metadata": {},
   "outputs": [
    {
     "data": {
      "text/plain": [
       "['Vishal',\n",
       " 56,\n",
       " 213.56,\n",
       " 'rajput',\n",
       " 'vivek',\n",
       " 'vicky',\n",
       " 'khushi',\n",
       " 89,\n",
       " 41,\n",
       " 42.35,\n",
       " 456]"
      ]
     },
     "execution_count": 52,
     "metadata": {},
     "output_type": "execute_result"
    }
   ],
   "source": [
    "my_list_conct"
   ]
  },
  {
   "cell_type": "code",
   "execution_count": 54,
   "id": "905b48ad",
   "metadata": {},
   "outputs": [],
   "source": [
    "my_list_conct.append('Vishal Rajput')"
   ]
  },
  {
   "cell_type": "code",
   "execution_count": 55,
   "id": "dea459fc",
   "metadata": {},
   "outputs": [
    {
     "data": {
      "text/plain": [
       "['Vishal',\n",
       " 56,\n",
       " 213.56,\n",
       " 'rajput',\n",
       " 'vivek',\n",
       " 'vicky',\n",
       " 'khushi',\n",
       " 89,\n",
       " 41,\n",
       " 42.35,\n",
       " 456,\n",
       " 'Vishal Rajput']"
      ]
     },
     "execution_count": 55,
     "metadata": {},
     "output_type": "execute_result"
    }
   ],
   "source": [
    "my_list_conct"
   ]
  },
  {
   "cell_type": "code",
   "execution_count": 58,
   "id": "8d16dcc3",
   "metadata": {},
   "outputs": [],
   "source": [
    "my_list_conct.remove(456) #it finds and remove the passed value"
   ]
  },
  {
   "cell_type": "code",
   "execution_count": 59,
   "id": "e6472e82",
   "metadata": {},
   "outputs": [
    {
     "data": {
      "text/plain": [
       "['Vishal',\n",
       " 56,\n",
       " 213.56,\n",
       " 'rajput',\n",
       " 'vivek',\n",
       " 'vicky',\n",
       " 'khushi',\n",
       " 89,\n",
       " 41,\n",
       " 42.35,\n",
       " 'Vishal Rajput']"
      ]
     },
     "execution_count": 59,
     "metadata": {},
     "output_type": "execute_result"
    }
   ],
   "source": [
    "my_list_conct"
   ]
  },
  {
   "cell_type": "code",
   "execution_count": 60,
   "id": "a11a049f",
   "metadata": {},
   "outputs": [
    {
     "data": {
      "text/plain": [
       "'Vishal Rajput'"
      ]
     },
     "execution_count": 60,
     "metadata": {},
     "output_type": "execute_result"
    }
   ],
   "source": [
    "my_list_conct.pop()  #by default it pops out the last value in string"
   ]
  },
  {
   "cell_type": "code",
   "execution_count": 61,
   "id": "1d4bb523",
   "metadata": {},
   "outputs": [
    {
     "data": {
      "text/plain": [
       "['Vishal', 56, 213.56, 'rajput', 'vivek', 'vicky', 'khushi', 89, 41, 42.35]"
      ]
     },
     "execution_count": 61,
     "metadata": {},
     "output_type": "execute_result"
    }
   ],
   "source": [
    "my_list_conct"
   ]
  },
  {
   "cell_type": "code",
   "execution_count": null,
   "id": "aeb06ed2",
   "metadata": {},
   "outputs": [],
   "source": [
    "#we can also save the popped item"
   ]
  },
  {
   "cell_type": "code",
   "execution_count": 62,
   "id": "d2918198",
   "metadata": {},
   "outputs": [],
   "source": [
    "popped_item = my_list_conct.pop()"
   ]
  },
  {
   "cell_type": "code",
   "execution_count": 63,
   "id": "e86feb8f",
   "metadata": {},
   "outputs": [
    {
     "data": {
      "text/plain": [
       "42.35"
      ]
     },
     "execution_count": 63,
     "metadata": {},
     "output_type": "execute_result"
    }
   ],
   "source": [
    "popped_item"
   ]
  },
  {
   "cell_type": "code",
   "execution_count": null,
   "id": "c91140d2",
   "metadata": {},
   "outputs": [],
   "source": [
    "# we can also pop item by specefic index position"
   ]
  },
  {
   "cell_type": "code",
   "execution_count": 66,
   "id": "397f2944",
   "metadata": {},
   "outputs": [
    {
     "data": {
      "text/plain": [
       "56"
      ]
     },
     "execution_count": 66,
     "metadata": {},
     "output_type": "execute_result"
    }
   ],
   "source": [
    "my_list_conct.pop(1)"
   ]
  },
  {
   "cell_type": "code",
   "execution_count": 67,
   "id": "79733522",
   "metadata": {},
   "outputs": [
    {
     "data": {
      "text/plain": [
       "['Vishal', 213.56, 'rajput', 'vivek', 'vicky', 'khushi']"
      ]
     },
     "execution_count": 67,
     "metadata": {},
     "output_type": "execute_result"
    }
   ],
   "source": [
    "my_list_conct"
   ]
  },
  {
   "cell_type": "code",
   "execution_count": 68,
   "id": "4a66385b",
   "metadata": {},
   "outputs": [],
   "source": [
    "nlist = [1,5,8,6,9,7,3,2,4,11]"
   ]
  },
  {
   "cell_type": "code",
   "execution_count": null,
   "id": "89bbbdb2",
   "metadata": {},
   "outputs": [],
   "source": [
    "# to sort the list"
   ]
  },
  {
   "cell_type": "code",
   "execution_count": 69,
   "id": "d59e56c1",
   "metadata": {},
   "outputs": [],
   "source": [
    "nlist.sort()"
   ]
  },
  {
   "cell_type": "code",
   "execution_count": 70,
   "id": "1f7f5a0f",
   "metadata": {},
   "outputs": [
    {
     "data": {
      "text/plain": [
       "[1, 2, 3, 4, 5, 6, 7, 8, 9, 11]"
      ]
     },
     "execution_count": 70,
     "metadata": {},
     "output_type": "execute_result"
    }
   ],
   "source": [
    "nlist"
   ]
  },
  {
   "cell_type": "code",
   "execution_count": 71,
   "id": "a9bc504c",
   "metadata": {},
   "outputs": [],
   "source": [
    "nlist.sort()    # to save the sorted list into a new variable\n",
    "exelst = nlist"
   ]
  },
  {
   "cell_type": "code",
   "execution_count": 73,
   "id": "903558dc",
   "metadata": {},
   "outputs": [
    {
     "data": {
      "text/plain": [
       "[1, 2, 3, 4, 5, 6, 7, 8, 9, 11]"
      ]
     },
     "execution_count": 73,
     "metadata": {},
     "output_type": "execute_result"
    }
   ],
   "source": [
    "exelst"
   ]
  },
  {
   "cell_type": "code",
   "execution_count": 74,
   "id": "9ba5fde2",
   "metadata": {},
   "outputs": [],
   "source": [
    "nlist.reverse()  # to get reverse list"
   ]
  },
  {
   "cell_type": "code",
   "execution_count": 75,
   "id": "43372096",
   "metadata": {},
   "outputs": [
    {
     "data": {
      "text/plain": [
       "[11, 9, 8, 7, 6, 5, 4, 3, 2, 1]"
      ]
     },
     "execution_count": 75,
     "metadata": {},
     "output_type": "execute_result"
    }
   ],
   "source": [
    "nlist"
   ]
  },
  {
   "cell_type": "markdown",
   "id": "22c05e99",
   "metadata": {},
   "source": [
    "# Dictonary"
   ]
  },
  {
   "cell_type": "code",
   "execution_count": null,
   "id": "31abc92a",
   "metadata": {},
   "outputs": [],
   "source": [
    "#dictonaries are unordered and cannot be sorted and it can be only retrive by suing the key name"
   ]
  },
  {
   "cell_type": "code",
   "execution_count": 1,
   "id": "0f7d07b7",
   "metadata": {},
   "outputs": [],
   "source": [
    "prices = {'apple':100,'ornage':240,'milk':23}"
   ]
  },
  {
   "cell_type": "code",
   "execution_count": 3,
   "id": "bb23c61a",
   "metadata": {},
   "outputs": [
    {
     "data": {
      "text/plain": [
       "dict"
      ]
     },
     "execution_count": 3,
     "metadata": {},
     "output_type": "execute_result"
    }
   ],
   "source": [
    "type(prices)"
   ]
  },
  {
   "cell_type": "code",
   "execution_count": 5,
   "id": "bcadce63",
   "metadata": {},
   "outputs": [
    {
     "data": {
      "text/plain": [
       "dict_keys(['apple', 'ornage', 'milk'])"
      ]
     },
     "execution_count": 5,
     "metadata": {},
     "output_type": "execute_result"
    }
   ],
   "source": [
    "prices.keys()"
   ]
  },
  {
   "cell_type": "code",
   "execution_count": 7,
   "id": "6afb5126",
   "metadata": {},
   "outputs": [
    {
     "data": {
      "text/plain": [
       "100"
      ]
     },
     "execution_count": 7,
     "metadata": {},
     "output_type": "execute_result"
    }
   ],
   "source": [
    "prices['apple']"
   ]
  },
  {
   "cell_type": "code",
   "execution_count": null,
   "id": "ee505252",
   "metadata": {},
   "outputs": [],
   "source": [
    "#we can use any dataa type in dict"
   ]
  },
  {
   "cell_type": "code",
   "execution_count": 8,
   "id": "aff9f8c2",
   "metadata": {},
   "outputs": [],
   "source": [
    "d = {'k1':123,'k2':[0,1,2,'vishal'],'k3':{'insidekey':12350}}"
   ]
  },
  {
   "cell_type": "code",
   "execution_count": 9,
   "id": "ce795eb2",
   "metadata": {},
   "outputs": [
    {
     "data": {
      "text/plain": [
       "{'k1': 123, 'k2': [0, 1, 2, 'vishal'], 'k3': {'insidekey': 12350}}"
      ]
     },
     "execution_count": 9,
     "metadata": {},
     "output_type": "execute_result"
    }
   ],
   "source": [
    "d"
   ]
  },
  {
   "cell_type": "code",
   "execution_count": 10,
   "id": "433049f9",
   "metadata": {},
   "outputs": [
    {
     "data": {
      "text/plain": [
       "dict_keys(['k1', 'k2', 'k3'])"
      ]
     },
     "execution_count": 10,
     "metadata": {},
     "output_type": "execute_result"
    }
   ],
   "source": [
    "d.keys()"
   ]
  },
  {
   "cell_type": "code",
   "execution_count": 37,
   "id": "1d789daf",
   "metadata": {},
   "outputs": [
    {
     "data": {
      "text/plain": [
       "dict_values([100, 280, 500, 800])"
      ]
     },
     "execution_count": 37,
     "metadata": {},
     "output_type": "execute_result"
    }
   ],
   "source": [
    "d.values()"
   ]
  },
  {
   "cell_type": "code",
   "execution_count": 11,
   "id": "27012290",
   "metadata": {},
   "outputs": [
    {
     "data": {
      "text/plain": [
       "{'insidekey': 12350}"
      ]
     },
     "execution_count": 11,
     "metadata": {},
     "output_type": "execute_result"
    }
   ],
   "source": [
    "d['k3']"
   ]
  },
  {
   "cell_type": "code",
   "execution_count": 12,
   "id": "a3f7300b",
   "metadata": {},
   "outputs": [
    {
     "data": {
      "text/plain": [
       "12350"
      ]
     },
     "execution_count": 12,
     "metadata": {},
     "output_type": "execute_result"
    }
   ],
   "source": [
    "d['k3']['insidekey']"
   ]
  },
  {
   "cell_type": "code",
   "execution_count": 14,
   "id": "5bb25b40",
   "metadata": {},
   "outputs": [
    {
     "data": {
      "text/plain": [
       "[0, 1, 2, 'vishal']"
      ]
     },
     "execution_count": 14,
     "metadata": {},
     "output_type": "execute_result"
    }
   ],
   "source": [
    "d['k2']"
   ]
  },
  {
   "cell_type": "code",
   "execution_count": 15,
   "id": "4a56115e",
   "metadata": {},
   "outputs": [
    {
     "data": {
      "text/plain": [
       "'vishal'"
      ]
     },
     "execution_count": 15,
     "metadata": {},
     "output_type": "execute_result"
    }
   ],
   "source": [
    "d['k2'][3]  #called valu in list using index number "
   ]
  },
  {
   "cell_type": "code",
   "execution_count": 17,
   "id": "2471608b",
   "metadata": {},
   "outputs": [],
   "source": [
    "newd = d['k2'] "
   ]
  },
  {
   "cell_type": "code",
   "execution_count": 18,
   "id": "9b1efec4",
   "metadata": {},
   "outputs": [
    {
     "data": {
      "text/plain": [
       "[0, 1, 2, 'vishal']"
      ]
     },
     "execution_count": 18,
     "metadata": {},
     "output_type": "execute_result"
    }
   ],
   "source": [
    "newd"
   ]
  },
  {
   "cell_type": "code",
   "execution_count": 23,
   "id": "d15a42f4",
   "metadata": {},
   "outputs": [],
   "source": [
    "letter = newd[3]"
   ]
  },
  {
   "cell_type": "code",
   "execution_count": 24,
   "id": "095f77d0",
   "metadata": {},
   "outputs": [
    {
     "data": {
      "text/plain": [
       "'vishal'"
      ]
     },
     "execution_count": 24,
     "metadata": {},
     "output_type": "execute_result"
    }
   ],
   "source": [
    "letter"
   ]
  },
  {
   "cell_type": "code",
   "execution_count": 26,
   "id": "109374bb",
   "metadata": {},
   "outputs": [
    {
     "data": {
      "text/plain": [
       "'VISHAL'"
      ]
     },
     "execution_count": 26,
     "metadata": {},
     "output_type": "execute_result"
    }
   ],
   "source": [
    "letter.upper()"
   ]
  },
  {
   "cell_type": "code",
   "execution_count": 30,
   "id": "f27bbe54",
   "metadata": {},
   "outputs": [],
   "source": [
    "letter = newd[3].upper() #we can do it directly too"
   ]
  },
  {
   "cell_type": "code",
   "execution_count": 29,
   "id": "6a33b4bf",
   "metadata": {},
   "outputs": [
    {
     "data": {
      "text/plain": [
       "'VISHAL'"
      ]
     },
     "execution_count": 29,
     "metadata": {},
     "output_type": "execute_result"
    }
   ],
   "source": [
    "letter"
   ]
  },
  {
   "cell_type": "code",
   "execution_count": null,
   "id": "5988aa8b",
   "metadata": {},
   "outputs": [],
   "source": [
    "# to add or assign new valu in dict"
   ]
  },
  {
   "cell_type": "code",
   "execution_count": 32,
   "id": "23f526e0",
   "metadata": {},
   "outputs": [
    {
     "data": {
      "text/plain": [
       "{'k1': 100, 'k2': 300, 'k3': 500}"
      ]
     },
     "execution_count": 32,
     "metadata": {},
     "output_type": "execute_result"
    }
   ],
   "source": [
    "d = {'k1':100,'k2':300,'k3':500}\n",
    "d"
   ]
  },
  {
   "cell_type": "code",
   "execution_count": 33,
   "id": "c9bba756",
   "metadata": {},
   "outputs": [],
   "source": [
    "d['k4'] = 800 # added new value and key "
   ]
  },
  {
   "cell_type": "code",
   "execution_count": 34,
   "id": "e1211f3e",
   "metadata": {},
   "outputs": [
    {
     "data": {
      "text/plain": [
       "{'k1': 100, 'k2': 300, 'k3': 500, 'k4': 800}"
      ]
     },
     "execution_count": 34,
     "metadata": {},
     "output_type": "execute_result"
    }
   ],
   "source": [
    "d"
   ]
  },
  {
   "cell_type": "code",
   "execution_count": 35,
   "id": "04b440b9",
   "metadata": {},
   "outputs": [],
   "source": [
    "d['k2'] = 280 #assigned new value"
   ]
  },
  {
   "cell_type": "code",
   "execution_count": 36,
   "id": "c476331e",
   "metadata": {},
   "outputs": [
    {
     "data": {
      "text/plain": [
       "{'k1': 100, 'k2': 280, 'k3': 500, 'k4': 800}"
      ]
     },
     "execution_count": 36,
     "metadata": {},
     "output_type": "execute_result"
    }
   ],
   "source": [
    "d"
   ]
  },
  {
   "cell_type": "code",
   "execution_count": 38,
   "id": "8dbee51f",
   "metadata": {},
   "outputs": [
    {
     "data": {
      "text/plain": [
       "dict_keys(['k1', 'k2', 'k3', 'k4'])"
      ]
     },
     "execution_count": 38,
     "metadata": {},
     "output_type": "execute_result"
    }
   ],
   "source": [
    "d.keys()"
   ]
  },
  {
   "cell_type": "code",
   "execution_count": 39,
   "id": "2841c7e2",
   "metadata": {},
   "outputs": [
    {
     "data": {
      "text/plain": [
       "dict_values([100, 280, 500, 800])"
      ]
     },
     "execution_count": 39,
     "metadata": {},
     "output_type": "execute_result"
    }
   ],
   "source": [
    "d.values()"
   ]
  },
  {
   "cell_type": "code",
   "execution_count": 43,
   "id": "45508e4f",
   "metadata": {},
   "outputs": [
    {
     "data": {
      "text/plain": [
       "{'b': None}"
      ]
     },
     "execution_count": 43,
     "metadata": {},
     "output_type": "execute_result"
    }
   ],
   "source": [
    "d.fromkeys('b')"
   ]
  },
  {
   "cell_type": "code",
   "execution_count": 45,
   "id": "5132f6a7",
   "metadata": {},
   "outputs": [
    {
     "data": {
      "text/plain": [
       "dict_items([('k1', 100), ('k2', 280), ('k3', 500), ('k4', 800)])"
      ]
     },
     "execution_count": 45,
     "metadata": {},
     "output_type": "execute_result"
    }
   ],
   "source": [
    "d.items()"
   ]
  },
  {
   "cell_type": "markdown",
   "id": "b3a077c0",
   "metadata": {},
   "source": [
    "# Tuples"
   ]
  },
  {
   "cell_type": "code",
   "execution_count": null,
   "id": "ab226a37",
   "metadata": {},
   "outputs": [],
   "source": [
    "#immutable no duplicates"
   ]
  },
  {
   "cell_type": "code",
   "execution_count": 46,
   "id": "4eb6ac79",
   "metadata": {},
   "outputs": [],
   "source": [
    "t = (1,2,3,4)"
   ]
  },
  {
   "cell_type": "code",
   "execution_count": 47,
   "id": "5a2db317",
   "metadata": {},
   "outputs": [],
   "source": [
    "l = [1,2,3,4]"
   ]
  },
  {
   "cell_type": "code",
   "execution_count": 49,
   "id": "1be31283",
   "metadata": {},
   "outputs": [
    {
     "data": {
      "text/plain": [
       "tuple"
      ]
     },
     "execution_count": 49,
     "metadata": {},
     "output_type": "execute_result"
    }
   ],
   "source": [
    "type(t)"
   ]
  },
  {
   "cell_type": "code",
   "execution_count": 53,
   "id": "2af6f10e",
   "metadata": {},
   "outputs": [],
   "source": [
    "t = ('a','a','b')"
   ]
  },
  {
   "cell_type": "code",
   "execution_count": 55,
   "id": "8e93c122",
   "metadata": {},
   "outputs": [
    {
     "data": {
      "text/plain": [
       "2"
      ]
     },
     "execution_count": 55,
     "metadata": {},
     "output_type": "execute_result"
    }
   ],
   "source": [
    "t.count('a')"
   ]
  },
  {
   "cell_type": "code",
   "execution_count": 56,
   "id": "892d39b6",
   "metadata": {},
   "outputs": [
    {
     "data": {
      "text/plain": [
       "0"
      ]
     },
     "execution_count": 56,
     "metadata": {},
     "output_type": "execute_result"
    }
   ],
   "source": [
    "t.index('a')"
   ]
  },
  {
   "cell_type": "markdown",
   "id": "00a9c96c",
   "metadata": {},
   "source": [
    "# Sets"
   ]
  },
  {
   "cell_type": "code",
   "execution_count": null,
   "id": "c7605ce7",
   "metadata": {},
   "outputs": [],
   "source": [
    "#unorderd collections of unique elements"
   ]
  },
  {
   "cell_type": "code",
   "execution_count": 67,
   "id": "5dbcda0c",
   "metadata": {},
   "outputs": [],
   "source": [
    "s = {1,2,4,5,8,3}"
   ]
  },
  {
   "cell_type": "code",
   "execution_count": 59,
   "id": "9e4ab20f",
   "metadata": {},
   "outputs": [
    {
     "data": {
      "text/plain": [
       "set"
      ]
     },
     "execution_count": 59,
     "metadata": {},
     "output_type": "execute_result"
    }
   ],
   "source": [
    "type(s)"
   ]
  },
  {
   "cell_type": "code",
   "execution_count": 68,
   "id": "1a1f97ab",
   "metadata": {},
   "outputs": [
    {
     "data": {
      "text/plain": [
       "{1, 2, 3, 4, 5, 8}"
      ]
     },
     "execution_count": 68,
     "metadata": {},
     "output_type": "execute_result"
    }
   ],
   "source": [
    "s"
   ]
  },
  {
   "cell_type": "code",
   "execution_count": 69,
   "id": "8ef52610",
   "metadata": {},
   "outputs": [
    {
     "data": {
      "text/plain": [
       "{1, 2, 3, 4, 5, 8}"
      ]
     },
     "execution_count": 69,
     "metadata": {},
     "output_type": "execute_result"
    }
   ],
   "source": [
    "s"
   ]
  },
  {
   "cell_type": "code",
   "execution_count": 72,
   "id": "e7c26322",
   "metadata": {},
   "outputs": [],
   "source": [
    "l = [1,2,3,2,8,2,7,5,5,5,8,5.26]"
   ]
  },
  {
   "cell_type": "code",
   "execution_count": 73,
   "id": "4ff1296b",
   "metadata": {},
   "outputs": [
    {
     "data": {
      "text/plain": [
       "{1, 2, 3, 5, 5.26, 7, 8}"
      ]
     },
     "execution_count": 73,
     "metadata": {},
     "output_type": "execute_result"
    }
   ],
   "source": [
    "set(l)"
   ]
  },
  {
   "cell_type": "markdown",
   "id": "0c857d72",
   "metadata": {},
   "source": [
    "# booleans "
   ]
  },
  {
   "cell_type": "code",
   "execution_count": 77,
   "id": "96ffd5d5",
   "metadata": {},
   "outputs": [],
   "source": [
    "#for True and Talse"
   ]
  },
  {
   "cell_type": "code",
   "execution_count": 78,
   "id": "68aa6802",
   "metadata": {},
   "outputs": [
    {
     "data": {
      "text/plain": [
       "True"
      ]
     },
     "execution_count": 78,
     "metadata": {},
     "output_type": "execute_result"
    }
   ],
   "source": [
    "True"
   ]
  },
  {
   "cell_type": "code",
   "execution_count": 79,
   "id": "13b8ed4d",
   "metadata": {},
   "outputs": [
    {
     "data": {
      "text/plain": [
       "bool"
      ]
     },
     "execution_count": 79,
     "metadata": {},
     "output_type": "execute_result"
    }
   ],
   "source": [
    "type(True)"
   ]
  },
  {
   "cell_type": "code",
   "execution_count": 80,
   "id": "6df78dfe",
   "metadata": {},
   "outputs": [
    {
     "data": {
      "text/plain": [
       "False"
      ]
     },
     "execution_count": 80,
     "metadata": {},
     "output_type": "execute_result"
    }
   ],
   "source": [
    "False"
   ]
  },
  {
   "cell_type": "code",
   "execution_count": 81,
   "id": "5aef4d3a",
   "metadata": {},
   "outputs": [
    {
     "data": {
      "text/plain": [
       "bool"
      ]
     },
     "execution_count": 81,
     "metadata": {},
     "output_type": "execute_result"
    }
   ],
   "source": [
    "type(False)"
   ]
  },
  {
   "cell_type": "code",
   "execution_count": 82,
   "id": "5bcaeb19",
   "metadata": {},
   "outputs": [
    {
     "data": {
      "text/plain": [
       "False"
      ]
     },
     "execution_count": 82,
     "metadata": {},
     "output_type": "execute_result"
    }
   ],
   "source": [
    "1>2"
   ]
  },
  {
   "cell_type": "code",
   "execution_count": 84,
   "id": "dc92f2a4",
   "metadata": {},
   "outputs": [
    {
     "data": {
      "text/plain": [
       "True"
      ]
     },
     "execution_count": 84,
     "metadata": {},
     "output_type": "execute_result"
    }
   ],
   "source": [
    "2==2"
   ]
  },
  {
   "cell_type": "markdown",
   "id": "a01ed192",
   "metadata": {},
   "source": [
    "# Io With Basic Files in Python"
   ]
  },
  {
   "cell_type": "code",
   "execution_count": 1,
   "id": "090a78ad",
   "metadata": {},
   "outputs": [
    {
     "name": "stdout",
     "output_type": "stream",
     "text": [
      "Writing myfile.txt\n"
     ]
    }
   ],
   "source": [
    "%%writefile myfile.txt\n",
    "Hello this is a text file\n",
    "this is the demo file"
   ]
  },
  {
   "cell_type": "code",
   "execution_count": 7,
   "id": "c20f3d61",
   "metadata": {},
   "outputs": [],
   "source": [
    "myfile = open('myfile.txt')"
   ]
  },
  {
   "cell_type": "code",
   "execution_count": 3,
   "id": "dbe27aa4",
   "metadata": {},
   "outputs": [
    {
     "data": {
      "text/plain": [
       "'C:\\\\Users\\\\VISHAL RAJPUT\\\\Desktop'"
      ]
     },
     "execution_count": 3,
     "metadata": {},
     "output_type": "execute_result"
    }
   ],
   "source": [
    "pwd  #to know current directory of jupyter notebook"
   ]
  },
  {
   "cell_type": "code",
   "execution_count": 8,
   "id": "716b5294",
   "metadata": {},
   "outputs": [
    {
     "data": {
      "text/plain": [
       "'Hello this is a text file\\nthis is the demo file\\n'"
      ]
     },
     "execution_count": 8,
     "metadata": {},
     "output_type": "execute_result"
    }
   ],
   "source": [
    " myfile.read() #to read the file"
   ]
  },
  {
   "cell_type": "code",
   "execution_count": null,
   "id": "926d43ea",
   "metadata": {},
   "outputs": [],
   "source": [
    "#\\n is representing the new line in the above string"
   ]
  },
  {
   "cell_type": "code",
   "execution_count": 10,
   "id": "1abdc934",
   "metadata": {},
   "outputs": [
    {
     "data": {
      "text/plain": [
       "['Hello this is a text file\\n', 'this is the demo file\\n']"
      ]
     },
     "execution_count": 10,
     "metadata": {},
     "output_type": "execute_result"
    }
   ],
   "source": [
    "myfile.readlines()"
   ]
  },
  {
   "cell_type": "code",
   "execution_count": null,
   "id": "65228404",
   "metadata": {},
   "outputs": [],
   "source": [
    "#filepath fo read file anywhere located in system"
   ]
  },
  {
   "cell_type": "code",
   "execution_count": null,
   "id": "38134d49",
   "metadata": {},
   "outputs": [],
   "source": [
    "#myfile = open(\"C:\\\\Users\\\\VISHAL RAJPUT\\\\Desktop\")"
   ]
  },
  {
   "cell_type": "code",
   "execution_count": 12,
   "id": "0cd90300",
   "metadata": {},
   "outputs": [],
   "source": [
    "myfile.close()"
   ]
  },
  {
   "cell_type": "code",
   "execution_count": null,
   "id": "4285f26f",
   "metadata": {},
   "outputs": [],
   "source": [
    "#basically if you don't close the file it can cause error so prevent the error we have to close it or we can also use with "
   ]
  },
  {
   "cell_type": "code",
   "execution_count": 13,
   "id": "4e9d787e",
   "metadata": {},
   "outputs": [],
   "source": [
    "with open ('myfile.txt') as mynewfile:\n",
    "    contents = mynewfile.read()"
   ]
  },
  {
   "cell_type": "code",
   "execution_count": 14,
   "id": "8997b89c",
   "metadata": {},
   "outputs": [
    {
     "data": {
      "text/plain": [
       "'Hello this is a text file\\nthis is the demo file\\n'"
      ]
     },
     "execution_count": 14,
     "metadata": {},
     "output_type": "execute_result"
    }
   ],
   "source": [
    "contents"
   ]
  },
  {
   "cell_type": "code",
   "execution_count": null,
   "id": "baf28ca6",
   "metadata": {},
   "outputs": [],
   "source": [
    "#so some other operation on file"
   ]
  },
  {
   "cell_type": "code",
   "execution_count": 17,
   "id": "19fa1f8e",
   "metadata": {},
   "outputs": [],
   "source": [
    "with open ('myfile.txt',mode ='r') as myfile:  #mode='r' for reading the file\n",
    "    contents = myfile.read()"
   ]
  },
  {
   "cell_type": "code",
   "execution_count": 18,
   "id": "2f5cd17c",
   "metadata": {},
   "outputs": [
    {
     "data": {
      "text/plain": [
       "'Hello this is a text file\\nthis is the demo file\\n'"
      ]
     },
     "execution_count": 18,
     "metadata": {},
     "output_type": "execute_result"
    }
   ],
   "source": [
    "contents"
   ]
  },
  {
   "cell_type": "markdown",
   "id": "4f56edef",
   "metadata": {},
   "source": [
    "# reading writing and appending mode \n",
    "mode = 'r' read only\n",
    "mode = 'w' write only (will overwrite files or create new)\n",
    "mode ='a' is append only (will add on to files)\n",
    "mode = 'r+' is reading and writing \n",
    "mode = 'w+' is writing and reading (will overwrite files or create new)"
   ]
  },
  {
   "cell_type": "code",
   "execution_count": 19,
   "id": "d0f559f9",
   "metadata": {},
   "outputs": [
    {
     "name": "stdout",
     "output_type": "stream",
     "text": [
      "Writing new.txt\n"
     ]
    }
   ],
   "source": [
    "%%writefile new.txt\n",
    "hi my name is vishal\n",
    "im learning python \n",
    "have a great day"
   ]
  },
  {
   "cell_type": "code",
   "execution_count": 22,
   "id": "867dd7e9",
   "metadata": {},
   "outputs": [
    {
     "name": "stdout",
     "output_type": "stream",
     "text": [
      "hi my name is vishal\n",
      "im learning python \n",
      "have a great day\n",
      "\n"
     ]
    }
   ],
   "source": [
    "with open('new.txt',mode = 'r') as f:\n",
    "    print(f.read())"
   ]
  },
  {
   "cell_type": "code",
   "execution_count": 23,
   "id": "2dd9e0e6",
   "metadata": {},
   "outputs": [
    {
     "name": "stdout",
     "output_type": "stream",
     "text": [
      "33\n"
     ]
    }
   ],
   "source": [
    "with open('new.txt',mode = 'a') as f:\n",
    "    print(f.write('because im not having a great day'))"
   ]
  },
  {
   "cell_type": "code",
   "execution_count": 24,
   "id": "1512ff9d",
   "metadata": {},
   "outputs": [
    {
     "name": "stdout",
     "output_type": "stream",
     "text": [
      "hi my name is vishal\n",
      "im learning python \n",
      "have a great day\n",
      "because im not having a great day\n"
     ]
    }
   ],
   "source": [
    "with open('new.txt',mode = 'r') as f:\n",
    "    print(f.read())"
   ]
  },
  {
   "cell_type": "code",
   "execution_count": 26,
   "id": "51d2ba15",
   "metadata": {},
   "outputs": [],
   "source": [
    "with open('abcd.txt',mode = 'w') as z:\n",
    "    z.write('i created this file for fun')"
   ]
  },
  {
   "cell_type": "code",
   "execution_count": 29,
   "id": "e35b9d8a",
   "metadata": {},
   "outputs": [
    {
     "name": "stdout",
     "output_type": "stream",
     "text": [
      "i created this file for fun\n"
     ]
    }
   ],
   "source": [
    "with open ('abcd.txt',mode = 'r') as z:\n",
    "    print(z.read())"
   ]
  },
  {
   "cell_type": "code",
   "execution_count": null,
   "id": "4a8d8271",
   "metadata": {},
   "outputs": [],
   "source": []
  }
 ],
 "metadata": {
  "kernelspec": {
   "display_name": "Python 3 (ipykernel)",
   "language": "python",
   "name": "python3"
  },
  "language_info": {
   "codemirror_mode": {
    "name": "ipython",
    "version": 3
   },
   "file_extension": ".py",
   "mimetype": "text/x-python",
   "name": "python",
   "nbconvert_exporter": "python",
   "pygments_lexer": "ipython3",
   "version": "3.9.12"
  }
 },
 "nbformat": 4,
 "nbformat_minor": 5
}
